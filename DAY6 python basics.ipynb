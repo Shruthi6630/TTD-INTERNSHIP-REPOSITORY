{
  "nbformat": 4,
  "nbformat_minor": 0,
  "metadata": {
    "colab": {
      "provenance": []
    },
    "kernelspec": {
      "name": "python3",
      "display_name": "Python 3"
    },
    "language_info": {
      "name": "python"
    }
  },
  "cells": [
    {
      "cell_type": "code",
      "execution_count": null,
      "metadata": {
        "id": "w1K_wRhEw_ZN",
        "colab": {
          "base_uri": "https://localhost:8080/"
        },
        "outputId": "58690617-0c6b-49aa-fd40-772387f7a986"
      },
      "outputs": [
        {
          "output_type": "stream",
          "name": "stdout",
          "text": [
            "Hello Colab\n"
          ]
        }
      ],
      "source": [
        "a=\"Hello Colab\"\n",
        "print(a)"
      ]
    },
    {
      "cell_type": "markdown",
      "source": [
        "##**Loops**"
      ],
      "metadata": {
        "id": "REfh_MNKysP4"
      }
    },
    {
      "cell_type": "code",
      "source": [
        "#for loop with break & continue\n",
        "\n",
        "hi = [1,2,3,4,5]\n",
        "for i in hi:\n",
        "  if i==2:\n",
        "    continue\n",
        "  elif i==4:\n",
        "    continue\n",
        "  print(i)"
      ],
      "metadata": {
        "colab": {
          "base_uri": "https://localhost:8080/"
        },
        "id": "e2X-PQBD1ZZe",
        "outputId": "754cf2c3-984c-45c3-aeb7-a3538c60e86c"
      },
      "execution_count": null,
      "outputs": [
        {
          "output_type": "stream",
          "name": "stdout",
          "text": [
            "1\n",
            "3\n",
            "5\n"
          ]
        }
      ]
    },
    {
      "cell_type": "markdown",
      "source": [
        "##**Dictionaries**"
      ],
      "metadata": {
        "id": "bInlA6SJyl0a"
      }
    },
    {
      "cell_type": "code",
      "source": [
        "wbf = {\n",
        "    'shruthi': 2313421107050,\n",
        "    'sharon': 2313421107049,\n",
        "    'jasmin': 2313421107027\n",
        "}\n",
        "\n",
        "keys = wbf.keys()\n",
        "values = wbf.values()\n",
        "print(\"Keys:\",keys)\n",
        "print(\"Values:\",values)\n",
        "print()\n",
        "\n",
        "#.items()\n",
        "items = wbf.items()\n",
        "print(items)\n",
        "print()\n",
        "for x,y in items:\n",
        "  print(x,':',y)\n",
        "\n",
        "#update()\n",
        "print()\n",
        "wbf.update({'dheepika':2313421107008})\n",
        "print(wbf)\n",
        "\n",
        "#adding item using key\n",
        "print()\n",
        "wbf['kaviyashree']=2313421107018\n",
        "print(wbf)\n",
        "\n",
        "#pop()\n",
        "print()\n",
        "print(\"result of pop():\",wbf.pop('dheepika'))\n",
        "\n",
        "print(\"result of popitem():\",wbf.popitem())"
      ],
      "metadata": {
        "colab": {
          "base_uri": "https://localhost:8080/"
        },
        "id": "TAUNcBWS1dJZ",
        "outputId": "b3551c55-37f5-4615-ba73-7b37bec946f3"
      },
      "execution_count": null,
      "outputs": [
        {
          "output_type": "stream",
          "name": "stdout",
          "text": [
            "Keys: dict_keys(['shruthi', 'sharon', 'jasmin'])\n",
            "Values: dict_values([2313421107050, 2313421107049, 2313421107027])\n",
            "\n",
            "dict_items([('shruthi', 2313421107050), ('sharon', 2313421107049), ('jasmin', 2313421107027)])\n",
            "\n",
            "shruthi : 2313421107050\n",
            "sharon : 2313421107049\n",
            "jasmin : 2313421107027\n",
            "\n",
            "{'shruthi': 2313421107050, 'sharon': 2313421107049, 'jasmin': 2313421107027, 'dheepika': 2313421107008}\n",
            "\n",
            "{'shruthi': 2313421107050, 'sharon': 2313421107049, 'jasmin': 2313421107027, 'dheepika': 2313421107008, 'kaviyashree': 2313421107018}\n",
            "\n",
            "result of pop(): 2313421107008\n",
            "result of popitem(): ('kaviyashree', 2313421107018)\n"
          ]
        }
      ]
    },
    {
      "cell_type": "markdown",
      "source": [
        "**Nested Dictionary**"
      ],
      "metadata": {
        "id": "vZIZRIH69y6H"
      }
    },
    {
      "cell_type": "code",
      "source": [
        "# Nested Dictionary Example\n",
        "# Creating a nested dictionary for a student\n",
        "student = {\n",
        "    \"name\": \"Noore\",\n",
        "    \"marks\": {\n",
        "        \"language\": 95,\n",
        "        \"allied math\": 90,\n",
        "        \"data science\": 92,\n",
        "        \"Part-4\": 100\n",
        "    },\n",
        "    \"age\": 18\n",
        "}\n",
        "\n",
        "# Accessing values\n",
        "print(\"Name:\", student[\"name\"])\n",
        "\n",
        "print(\"Allied Math Marks:\", student[\"marks\"][\"allied math\"])\n",
        "\n",
        "# Adding a new subject\n",
        "student[\"marks\"][\"english\"] = 88\n",
        "print(\"Added English Marks:\", student[\"marks\"][\"english\"])\n",
        "\n",
        "# Updating an existing subject\n",
        "student[\"marks\"][\"allied math\"] = 100\n",
        "print(\"Updated Math Marks:\", student[\"marks\"][\"allied math\"])\n",
        "\n",
        "# Loop through marks\n",
        "print(\"\\n--- Noore Marks ---\")\n",
        "for subject, mark in student[\"marks\"].items():\n",
        "    print(f\"{subject}: {mark}\")\n",
        "\n",
        "# Creating a nested dictionary for multiple students\n",
        "students = {\n",
        "    \"student1\": {\"name\" : \"Shakina\", \"age\": 17, \"grade\": \"A\"},\n",
        "    \"student2\": {\"name\": \"Shruthi\", \"age\": 16, \"grade\": \"B\"}\n",
        "}\n",
        "\n",
        "# Access and display individual student info\n",
        "print(\"\\n Shruthi's Grade:\", students[\"student2\"][\"grade\"])\n",
        "\n",
        "# Loop through all students\n",
        "print(\"\\n--- All Students ---\")\n",
        "for student_id, info in students.items():\n",
        "    print(f\"{student_id} - Name: {info['name']}, Age: {info['age']}, Grade: {info['grade']}\")"
      ],
      "metadata": {
        "id": "9Z7XdYRo9jAV",
        "outputId": "75e35c88-3e78-4772-afea-55ca4c097c77",
        "colab": {
          "base_uri": "https://localhost:8080/"
        }
      },
      "execution_count": null,
      "outputs": [
        {
          "output_type": "stream",
          "name": "stdout",
          "text": [
            "Name: Noore\n",
            "Allied Math Marks: 90\n",
            "Added English Marks: 88\n",
            "Updated Math Marks: 100\n",
            "\n",
            "--- Noore Marks ---\n",
            "language: 95\n",
            "allied math: 100\n",
            "data science: 92\n",
            "Part-4: 100\n",
            "english: 88\n",
            "\n",
            " Shruthi's Grade: B\n",
            "\n",
            "--- All Students ---\n",
            "student1 - Name: Shakina, Age: 17, Grade: A\n",
            "student2 - Name: Shruthi, Age: 16, Grade: B\n"
          ]
        }
      ]
    },
    {
      "cell_type": "markdown",
      "source": [
        "##**Classes**"
      ],
      "metadata": {
        "id": "_Q79zr1qxom0"
      }
    },
    {
      "cell_type": "code",
      "source": [
        "#example program for classes in Python\n",
        "\n",
        "class Person:\n",
        "  def __init__(self,fname,lname,age):\n",
        "    self.fname = fname\n",
        "    self.age = age\n",
        "    self.lname= lname\n",
        "\n",
        "  def printname(self):\n",
        "      print(\"Hello, my name is \"+self.fname, self.lname+'.')\n",
        "\n",
        "obj = Person('Lara','Raj',20)\n",
        "obj.printname()\n",
        "\n",
        "obj.age=24\n",
        "print(obj.age)"
      ],
      "metadata": {
        "colab": {
          "base_uri": "https://localhost:8080/"
        },
        "id": "ytGeloTWzaok",
        "outputId": "43a7a37e-0c1f-4c17-a34a-d714455f96bd"
      },
      "execution_count": null,
      "outputs": [
        {
          "output_type": "stream",
          "name": "stdout",
          "text": [
            "Hello, my name is Lara Raj.\n",
            "24\n"
          ]
        }
      ]
    },
    {
      "cell_type": "markdown",
      "source": [
        "##**Inheritance**"
      ],
      "metadata": {
        "id": "tN5KhRUQycWC"
      }
    },
    {
      "cell_type": "code",
      "source": [
        "class Student(Person):\n",
        "  pass\n",
        "\n",
        "inst = Student(\"Aisis\",\"Heart\",20)\n",
        "inst.printname()"
      ],
      "metadata": {
        "colab": {
          "base_uri": "https://localhost:8080/"
        },
        "id": "JayFJQxb0qyz",
        "outputId": "7ae7d24a-c837-45b8-ed4e-96964b43eac3"
      },
      "execution_count": null,
      "outputs": [
        {
          "output_type": "stream",
          "name": "stdout",
          "text": [
            "Hello, my name is Aisis Heart.\n"
          ]
        }
      ]
    },
    {
      "cell_type": "code",
      "source": [
        "#using .super()\n",
        "\n",
        "class Student(Person):\n",
        "  def __init__(self,fname,lname,age,year):\n",
        "    super().__init__(fname,lname,age)\n",
        "    self.gradyear = year\n",
        "\n",
        "  def welcome(self):\n",
        "    print(f'Welcome, {self.fname} {self.lname} to the class of {self.gradyear}!!!')\n",
        "\n",
        "rno21 = Student('Lana','Mikaelson',21,2026)\n",
        "rno21.welcome()"
      ],
      "metadata": {
        "colab": {
          "base_uri": "https://localhost:8080/"
        },
        "id": "kPPfr6bd2Tif",
        "outputId": "ad385d8f-d247-4e27-9f7b-c0e2891c27bf"
      },
      "execution_count": null,
      "outputs": [
        {
          "output_type": "stream",
          "name": "stdout",
          "text": [
            "Welcome, Lana Mikaelson to the class of 2026!!!\n"
          ]
        }
      ]
    },
    {
      "cell_type": "markdown",
      "source": [
        "##**\\__iter__\\()**"
      ],
      "metadata": {
        "id": "-fCwODUAx3tL"
      }
    },
    {
      "cell_type": "code",
      "source": [
        "\n",
        "\n",
        "\n",
        "class MyNum:\n",
        "  def __iter__(self):\n",
        "    self.x = 1\n",
        "    return self\n",
        "\n",
        "  def __next__(self):\n",
        "    if self.x <= 21:\n",
        "      a = self.x\n",
        "      self.x+=1\n",
        "      return a\n",
        "    else:\n",
        "      raise StopIteration\n",
        "\n",
        "myobj = MyNum()\n",
        "myiter = iter(myobj)\n",
        "\n",
        "for i in myiter:\n",
        "  print(i, end='  ')\n",
        "  if (i%7)==0:\n",
        "    print('\\n')"
      ],
      "metadata": {
        "colab": {
          "base_uri": "https://localhost:8080/"
        },
        "id": "7WHzfcx338hJ",
        "outputId": "918495c5-a82c-4627-d5fb-57555f00794e"
      },
      "execution_count": null,
      "outputs": [
        {
          "output_type": "stream",
          "name": "stdout",
          "text": [
            "1  2  3  4  5  6  7  \n",
            "\n",
            "8  9  10  11  12  13  14  \n",
            "\n",
            "15  16  17  18  19  20  21  \n",
            "\n"
          ]
        }
      ]
    },
    {
      "cell_type": "code",
      "source": [
        "gems = ('emerald','pearl','sapphire')\n",
        "myit = iter(gems)\n",
        "\n",
        "print(next(myit))\n",
        "print(next(myit))\n",
        "print(next(myit))"
      ],
      "metadata": {
        "colab": {
          "base_uri": "https://localhost:8080/"
        },
        "id": "QLBQQyep44Zl",
        "outputId": "d29285d1-4279-476a-a277-77b2791ce0e0"
      },
      "execution_count": null,
      "outputs": [
        {
          "output_type": "stream",
          "name": "stdout",
          "text": [
            "emerald\n",
            "pearl\n",
            "sapphire\n"
          ]
        }
      ]
    },
    {
      "cell_type": "code",
      "source": [
        "class Car:\n",
        "  def __init__(self, brand, model):\n",
        "    self.brand = brand\n",
        "    self.model = model\n",
        "\n",
        "  def move(self):\n",
        "    print(\"Drive!\")\n",
        "\n",
        "class Boat:\n",
        "  def __init__(self, brand, model):\n",
        "    self.brand = brand\n",
        "    self.model = model\n",
        "\n",
        "  def move(self):\n",
        "    print(\"Sail!\")\n",
        "\n",
        "class Plane:\n",
        "  def __init__(self, brand, model):\n",
        "    self.brand = brand\n",
        "    self.model = model\n",
        "\n",
        "  def move(self):\n",
        "    print(\"Fly!\")\n",
        "\n",
        "car1 = Car(\"Ford\", \"Mustang\")       #Create a Car object\n",
        "boat1 = Boat(\"Ibiza\", \"Touring 20\") #Create a Boat object\n",
        "plane1 = Plane(\"Boeing\", \"747\")     #Create a Plane object\n",
        "\n",
        "for x in (car1, boat1, plane1):\n",
        "  print(x.brand)\n",
        "  print(x.model)\n",
        "  x.move()"
      ],
      "metadata": {
        "id": "KaMpZs4H6Jt5",
        "colab": {
          "base_uri": "https://localhost:8080/"
        },
        "outputId": "d62576f8-4492-49a9-e1a4-785bd0f1dc6b"
      },
      "execution_count": null,
      "outputs": [
        {
          "output_type": "stream",
          "name": "stdout",
          "text": [
            "Ford\n",
            "Mustang\n",
            "Drive!\n",
            "Ibiza\n",
            "Touring 20\n",
            "Sail!\n",
            "Boeing\n",
            "747\n",
            "Fly!\n"
          ]
        }
      ]
    },
    {
      "cell_type": "markdown",
      "source": [
        "**Types of Functions**"
      ],
      "metadata": {
        "id": "FiRdhkLMQrRu"
      }
    },
    {
      "cell_type": "code",
      "source": [
        "#Paramerterized function\n",
        "\n",
        "def add(a,b):\n",
        "  c=a+b\n",
        "  print(\"paramerterized function:\",c)\n",
        "add(10,20)\n",
        "\n",
        "#Non-Paramerterized function\n",
        "\n",
        "def sum():\n",
        "  a,b=10,50\n",
        "  c=a+b\n",
        "  print(\"non-paramerterized function:\",c)\n",
        "sum()"
      ],
      "metadata": {
        "id": "TfVC9lByEPyV",
        "colab": {
          "base_uri": "https://localhost:8080/"
        },
        "outputId": "1c611bfc-e7b1-45e4-f332-1ca0d2ae53ce"
      },
      "execution_count": null,
      "outputs": [
        {
          "output_type": "stream",
          "name": "stdout",
          "text": [
            "paramerterized function: 30\n",
            "non-paramerterized function: 60\n"
          ]
        }
      ]
    },
    {
      "cell_type": "markdown",
      "source": [
        "**List**"
      ],
      "metadata": {
        "id": "ZH5ElfzmQ5RQ"
      }
    },
    {
      "cell_type": "code",
      "source": [
        "#my list\n",
        "my_list=[1,1.11,\"G\",27,49,50]\n",
        "print(my_list)\n",
        "\n",
        "print()\n",
        "#Different types of list in formations\n",
        "print(len(my_list))\n",
        "print(type(my_list))\n",
        "\n",
        "print()\n",
        "#Slicing operater\n",
        "a=[5,10,1.5,20,2.5,30,\"hello\"]\n",
        "print(a[:9])\n",
        "print(a[3:15])\n",
        "print(a[0:])\n",
        "print(a[-5])\n",
        "print(a[-9:-1])\n",
        "\n",
        "print()\n",
        "#Appand and Expend\n",
        "a=[5,10,1.5,20,2.5,30,\"hello\"]\n",
        "a.append(20)\n",
        "print(\"appand:\",a)\n",
        "b=[27,49,50]\n",
        "a.extend(b)\n",
        "print(\"extend\",a)\n",
        "\n",
        "print()\n",
        "#Remove and pop function\n",
        "a=[5,10,1.5,20,2.5,30,\"hello\"]\n",
        "a.remove(10)\n",
        "print(\"remove:\",a)\n",
        "a.pop(2)\n",
        "print(\"pop:\",a)"
      ],
      "metadata": {
        "colab": {
          "base_uri": "https://localhost:8080/"
        },
        "id": "ySM5Y-PhQXQo",
        "outputId": "457fdb7e-082b-4564-a28a-b3ff531abc48"
      },
      "execution_count": null,
      "outputs": [
        {
          "output_type": "stream",
          "name": "stdout",
          "text": [
            "[1, 1.11, 'G', 27, 49, 50]\n",
            "\n",
            "6\n",
            "<class 'list'>\n",
            "\n",
            "[5, 10, 1.5, 20, 2.5, 30, 'hello']\n",
            "[20, 2.5, 30, 'hello']\n",
            "[5, 10, 1.5, 20, 2.5, 30, 'hello']\n",
            "1.5\n",
            "[5, 10, 1.5, 20, 2.5, 30]\n",
            "\n",
            "appand: [5, 10, 1.5, 20, 2.5, 30, 'hello', 20]\n",
            "extend [5, 10, 1.5, 20, 2.5, 30, 'hello', 20, 27, 49, 50]\n",
            "\n",
            "remove: [5, 1.5, 20, 2.5, 30, 'hello']\n",
            "pop: [5, 1.5, 2.5, 30, 'hello']\n"
          ]
        }
      ]
    },
    {
      "cell_type": "markdown",
      "source": [
        "**Tuple**"
      ],
      "metadata": {
        "id": "lNhVJEmWTgTr"
      }
    },
    {
      "cell_type": "code",
      "source": [
        "my_tuple=(\"cherry\",\"strawberry\",\"kiwi\",\"blueberry\")\n",
        "print(my_tuple)\n",
        "\n",
        "print()\n",
        "#Access tuple\n",
        "print(my_tuple[0])\n",
        "print(my_tuple[-3])\n",
        "\n",
        "print()\n",
        "#Slicing operater\n",
        "a=(27,49,50,3,11,1.3,3.1,\"Leo\")\n",
        "print(a[:])\n",
        "print(a[3:])\n",
        "print(a[:6])\n",
        "\n",
        "print()\n",
        "#Adding\n",
        "b=(27,49,50)\n",
        "wind=a+b\n",
        "print(\"tuple adding method:\",wind)\n",
        "\n",
        "print()\n",
        "#Multiply\n",
        "Fruits=(\"cherry\",\"strawberry\",\"kiwi\",\"blueberry\")\n",
        "print(Fruits*2)"
      ],
      "metadata": {
        "id": "_9alNBqTSL2J",
        "colab": {
          "base_uri": "https://localhost:8080/"
        },
        "outputId": "e0656c8d-447e-461a-c527-986f633a171c"
      },
      "execution_count": null,
      "outputs": [
        {
          "output_type": "stream",
          "name": "stdout",
          "text": [
            "('cherry', 'strawberry', 'kiwi', 'blueberry')\n",
            "\n",
            "cherry\n",
            "strawberry\n",
            "\n",
            "(27, 49, 50, 3, 11, 1.3, 3.1, 'Leo')\n",
            "(3, 11, 1.3, 3.1, 'Leo')\n",
            "(27, 49, 50, 3, 11, 1.3)\n",
            "\n",
            "tuple adding method: (27, 49, 50, 3, 11, 1.3, 3.1, 'Leo', 27, 49, 50)\n",
            "\n",
            "('cherry', 'strawberry', 'kiwi', 'blueberry', 'cherry', 'strawberry', 'kiwi', 'blueberry')\n"
          ]
        }
      ]
    },
    {
      "cell_type": "markdown",
      "source": [
        "**Sets**"
      ],
      "metadata": {
        "id": "C8tDcpmwhux4"
      }
    },
    {
      "cell_type": "code",
      "source": [
        "months={\"jan\",\"oct\",\"july\",\"sept\"}\n",
        "print(months)\n",
        "\n",
        "print()\n",
        "#add function\n",
        "months.add(\"feb\")\n",
        "print(\"adding values:\",months)\n",
        "\n",
        "print()\n",
        "#update function\n",
        "months.update([\"mar\",\"dec\",\"may\"])\n",
        "print(\"updating the values:\",months)\n",
        "\n",
        "print()\n",
        "#discard\n",
        "months.discard(\"jan\")\n",
        "print(\"discard the given value:\",months)\n",
        "\n",
        "print()\n",
        "#remove\n",
        "months.remove(\"oct\")\n",
        "print(\"remove the given value:\",months)\n",
        "\n",
        "print()\n",
        "#pop function\n",
        "months.pop()\n",
        "print(\"pop the random value:\",months)\n",
        "\n",
        "print()\n",
        "#union\n",
        "a={1,2,3,4,5}\n",
        "b={6,7,8,9,10}\n",
        "c=a.union(b)\n",
        "print(\"union set:\",c)\n",
        "\n",
        "print()\n",
        "#intersection\n",
        "a={1,2,3,4,5}\n",
        "b={4,5,6,7,8}\n",
        "c=a.intersection(b)\n",
        "print(\"intersection set:\",c)\n",
        "\n",
        "print()\n",
        "#symmetric_difference\n",
        "a={1,2,3,4,5}\n",
        "b={4,5,6,7,8}\n",
        "c=a.symmetric_difference(b)\n",
        "print(\"symmetric_difference set:\",c)"
      ],
      "metadata": {
        "colab": {
          "base_uri": "https://localhost:8080/"
        },
        "id": "VgVhJbB8fQm4",
        "outputId": "46be21c0-6fd9-4487-a59f-e0d52bab44f2"
      },
      "execution_count": null,
      "outputs": [
        {
          "output_type": "stream",
          "name": "stdout",
          "text": [
            "{'jan', 'oct', 'july', 'sept'}\n",
            "\n",
            "adding values: {'feb', 'jan', 'july', 'oct', 'sept'}\n",
            "\n",
            "updating the values: {'may', 'feb', 'jan', 'mar', 'july', 'dec', 'oct', 'sept'}\n",
            "\n",
            "discard the given value: {'may', 'feb', 'mar', 'july', 'dec', 'oct', 'sept'}\n",
            "\n",
            "remove the given value: {'may', 'feb', 'mar', 'july', 'dec', 'sept'}\n",
            "\n",
            "pop the random value: {'feb', 'mar', 'july', 'dec', 'sept'}\n",
            "\n",
            "union set: {1, 2, 3, 4, 5, 6, 7, 8, 9, 10}\n",
            "\n",
            "intersection set: {4, 5}\n",
            "\n",
            "symmetric_difference set: {1, 2, 3, 6, 7, 8}\n"
          ]
        }
      ]
    }
  ]
}