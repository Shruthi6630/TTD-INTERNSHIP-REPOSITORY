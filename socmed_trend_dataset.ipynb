{
  "nbformat": 4,
  "nbformat_minor": 0,
  "metadata": {
    "colab": {
      "provenance": []
    },
    "kernelspec": {
      "name": "python3",
      "display_name": "Python 3"
    },
    "language_info": {
      "name": "python"
    }
  },
  "cells": [
    {
      "cell_type": "code",
      "execution_count": null,
      "metadata": {
        "colab": {
          "base_uri": "https://localhost:8080/"
        },
        "id": "NPKWqEJlFg8Z",
        "outputId": "6f7d7dc1-b8a8-4948-e9e7-59faae42edc4"
      },
      "outputs": [
        {
          "output_type": "stream",
          "name": "stdout",
          "text": [
            "  Post_ID   Platform     Hashtag Content_Type     Region    Views   Likes  \\\n",
            "0  Post_1     TikTok  #Challenge        Video         UK  4163464  339431   \n",
            "1  Post_2  Instagram  #Education       Shorts      India  4155940  215240   \n",
            "2  Post_3    Twitter  #Challenge        Video     Brazil  3666211  327143   \n",
            "3  Post_4    YouTube  #Education       Shorts  Australia   917951  127125   \n",
            "4  Post_5     TikTok      #Dance         Post     Brazil    64866  171361   \n",
            "\n",
            "   Shares  Comments Engagement_Level  \n",
            "0   53135     19346             High  \n",
            "1   65860     27239           Medium  \n",
            "2   39423     36223           Medium  \n",
            "3   11687     36806              Low  \n",
            "4   69581      6376           Medium  \n",
            "\n",
            "['#Challenge' '#Education' '#Dance' '#Comedy' '#Gaming' '#Music' '#Viral'\n",
            " '#Fitness' '#Tech' '#Fashion']\n"
          ]
        }
      ],
      "source": [
        "import pandas as pd\n",
        "\n",
        "data = pd.read_csv('/content/Viral_Social_Media_Trends.csv')\n",
        "df = pd.DataFrame(data)\n",
        "print(df.head(5))\n",
        "print()\n",
        "unique_values = df['Hashtag'].unique()\n",
        "print(unique_values)"
      ]
    }
  ]
}